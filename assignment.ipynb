{
 "cells": [
  {
   "cell_type": "code",
   "execution_count": 6,
   "metadata": {},
   "outputs": [
    {
     "name": "stdout",
     "output_type": "stream",
     "text": [
      "2\n"
     ]
    }
   ],
   "source": [
    "def vowel_cnt(s):\n",
    "    count = 0\n",
    "    for i in s:\n",
    "        if (i == \"a\" or i ==\"A\"):\n",
    "            count+=1\n",
    "        elif (i == \"E\" or i ==\"e\"):\n",
    "            count +=1\n",
    "        elif (i == 'i' or i =='I'):\n",
    "            count +=1\n",
    "        elif (i == 'o' or i =='O'):\n",
    "            count +=1\n",
    "        elif (i == 'u' or i =='U'):\n",
    "            count +=1\n",
    "    return count\n",
    "\n",
    "print(vowel_cnt(\"hello\"))\n",
    "\n",
    "    \n"
   ]
  },
  {
   "cell_type": "code",
   "execution_count": null,
   "metadata": {},
   "outputs": [
    {
     "name": "stdout",
     "output_type": "stream",
     "text": [
      "2\n"
     ]
    }
   ],
   "source": [
    "def vwl_cunt(s):\n",
    "    count = 0\n",
    "    vowel= ['a','e','i','o','u']\n",
    "    for char in s:\n",
    "        if char.lower() in vowel:\n",
    "         count +=1\n",
    "    return count\n",
    "print(vwl_cunt('appple'))"
   ]
  },
  {
   "cell_type": "code",
   "execution_count": 16,
   "metadata": {},
   "outputs": [
    {
     "name": "stdout",
     "output_type": "stream",
     "text": [
      "{'e': 1, 'o': 1, 'a': 3}\n"
     ]
    }
   ],
   "source": [
    "# write a function named vowel count that takes a string and returns the no. of apperance\n",
    "#of each vowel in it\n",
    "\n",
    "def vowel_count(s):\n",
    "    result = {}\n",
    "    vowels = ['a','e','i','o','u']\n",
    "    for char in s :\n",
    "        if char.lower()in vowels:\n",
    "            if char.lower() in result:\n",
    "                result[char.lower()]+=1\n",
    "            else:\n",
    "                result[char.lower()]=1\n",
    "    return result\n",
    "print(vowel_count(\"hello Aayan\"))                \n",
    "                \n"
   ]
  },
  {
   "cell_type": "code",
   "execution_count": null,
   "metadata": {},
   "outputs": [],
   "source": []
  }
 ],
 "metadata": {
  "kernelspec": {
   "display_name": "env_name",
   "language": "python",
   "name": "python3"
  },
  "language_info": {
   "codemirror_mode": {
    "name": "ipython",
    "version": 3
   },
   "file_extension": ".py",
   "mimetype": "text/x-python",
   "name": "python",
   "nbconvert_exporter": "python",
   "pygments_lexer": "ipython3",
   "version": "3.13.0"
  }
 },
 "nbformat": 4,
 "nbformat_minor": 2
}
